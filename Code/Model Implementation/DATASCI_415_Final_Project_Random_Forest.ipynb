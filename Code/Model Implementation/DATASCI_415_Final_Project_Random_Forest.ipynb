{
  "nbformat": 4,
  "nbformat_minor": 0,
  "metadata": {
    "colab": {
      "provenance": []
    },
    "kernelspec": {
      "name": "python3",
      "display_name": "Python 3"
    },
    "language_info": {
      "name": "python"
    }
  },
  "cells": [
    {
      "cell_type": "markdown",
      "source": [
        "**Random Forest:**"
      ],
      "metadata": {
        "id": "h8dU_IodKo0D"
      }
    },
    {
      "cell_type": "code",
      "execution_count": null,
      "metadata": {
        "colab": {
          "base_uri": "https://localhost:8080/"
        },
        "id": "KvNGM7-1KkV9",
        "outputId": "4a58fcae-a256-4ef4-f3f7-85706f0fb135"
      },
      "outputs": [
        {
          "output_type": "stream",
          "name": "stdout",
          "text": [
            "Testing with n_estimators = 25\n",
            "Mean Accuracy for n_estimators=25: 0.513157894736842\n",
            "Testing with n_estimators = 50\n",
            "Mean Accuracy for n_estimators=50: 0.5315789473684212\n",
            "Testing with n_estimators = 75\n",
            "Mean Accuracy for n_estimators=75: 0.5217105263157895\n",
            "Testing with n_estimators = 100\n",
            "Mean Accuracy for n_estimators=100: 0.5256578947368421\n",
            "Testing with n_estimators = 125\n",
            "Mean Accuracy for n_estimators=125: 0.5236842105263158\n",
            "Testing with n_estimators = 150\n",
            "Mean Accuracy for n_estimators=150: 0.5269736842105264\n",
            "Testing with n_estimators = 175\n",
            "Mean Accuracy for n_estimators=175: 0.5210526315789474\n",
            "Testing with n_estimators = 200\n",
            "Mean Accuracy for n_estimators=200: 0.5197368421052632\n",
            "\n",
            "Best n_estimators Value: 50.0 with Mean Accuracy: 0.5315789473684212\n"
          ]
        }
      ],
      "source": [
        "import pandas as pd\n",
        "from sklearn.ensemble import RandomForestClassifier\n",
        "from sklearn.metrics import classification_report, confusion_matrix\n",
        "import numpy as np\n",
        "\n",
        "# Load the dataset\n",
        "training_data = pd.read_excel('/content/Premier_League_Date_Combined_Modified_2.0 - Training Set.xlsx')\n",
        "\n",
        "# Define the feature columns\n",
        "features = [\n",
        "    'LSPR',    # Last Season Possession Ratio\n",
        "    'LSGFD',   # Last Season Goals For Difference\n",
        "    'LSGAD',   # Last Season Goals Against Difference\n",
        "    'LSYCD',   # Last Season Yellow Cards Difference\n",
        "    'LSPD',    # Last Season Penalty Difference\n",
        "    'LSSPR',   # Last Season Save Percentage Ratio\n",
        "    'LSCSPR',  # Last Season Clean Sheet Percentage Ratio\n",
        "    'R5PD',    # Recent 5 Games Points Difference\n",
        "    'R5GFD',   # Recent 5 Games Goals For Difference\n",
        "    'R5GAD',   # Recent 5 Games Goals Against Difference\n",
        "    'TSSD',    # This Season Squad Difference\n",
        "    'TSAD',    # This Season Age (Average) Difference\n",
        "    'TSFD',    # This Season Foreigners Difference\n",
        "    'TSTMR',   # This Season Total Market Ratio\n",
        "    'R3VATGD', # Recent 3 Versus Away Team Goals Difference\n",
        "    'R3VATP'   # Recent 3 Vercus Away Team Points\n",
        "]\n",
        "\n",
        "# Define the seasons for sliding window cross-validation\n",
        "seasons = ['2015-2016', '2016-2017', '2017-2018', '2018-2019', '2019-2020', '2020-2021', '2021-2022']\n",
        "\n",
        "# Define the range of number of trees to tune in\n",
        "n_estimators_values = [25, 50, 75, 100, 125, 150, 175, 200]\n",
        "results = []\n",
        "\n",
        "for n_estimators in n_estimators_values:\n",
        "    print(f\"Testing with n_estimators = {n_estimators}\")\n",
        "    model = RandomForestClassifier(n_estimators=n_estimators, max_depth=7)\n",
        "\n",
        "    fold_results = []\n",
        "\n",
        "    for i in range(2, len(seasons) - 1):\n",
        "        # Define training and validation seasons\n",
        "        train_seasons = seasons[i - 2:i]\n",
        "        test_season = seasons[i + 1]\n",
        "\n",
        "        # Filter training and testing data\n",
        "        X_train = training_data[training_data['Season'].isin(train_seasons)][features]\n",
        "        y_train = training_data[training_data['Season'].isin(train_seasons)]['Outcome_Label']\n",
        "        X_test = training_data[training_data['Season'] == test_season][features]\n",
        "        y_test = training_data[training_data['Season'] == test_season]['Outcome_Label']\n",
        "\n",
        "        # Train the model\n",
        "        model.fit(X_train, y_train)\n",
        "\n",
        "        # Test the model\n",
        "        y_pred = model.predict(X_test)\n",
        "\n",
        "        # Evaluate the model\n",
        "        report = classification_report(y_test, y_pred, output_dict=True)\n",
        "        accuracy = report['accuracy']\n",
        "        fold_results.append(accuracy)\n",
        "\n",
        "    # Average results for this n_estimators value\n",
        "    mean_accuracy = np.mean(fold_results)\n",
        "    results.append({'n_estimators': n_estimators, 'Mean Accuracy': mean_accuracy})\n",
        "    print(f\"Mean Accuracy for n_estimators={n_estimators}: {mean_accuracy}\")\n",
        "\n",
        "# Find the best n_estimators value\n",
        "results_df = pd.DataFrame(results)\n",
        "best_result = results_df.loc[results_df['Mean Accuracy'].idxmax()]\n",
        "print(f\"\\nBest n_estimators Value: {best_result['n_estimators']} with Mean Accuracy: {best_result['Mean Accuracy']}\")\n"
      ]
    },
    {
      "cell_type": "code",
      "source": [
        "# Train the final model using the entire training set with the best n_estimators value\n",
        "X_train = training_data[features]\n",
        "y_train = training_data['Outcome_Label']\n",
        "model = RandomForestClassifier(n_estimators=75, max_depth=7)\n",
        "model.fit(X_train, y_train)\n",
        "\n",
        "# Predict on the training data\n",
        "y_pred = model.predict(X_train)\n",
        "\n",
        "# Evaluate the model on the training data\n",
        "training_confusion_matrix = confusion_matrix(y_train, y_pred)\n",
        "\n",
        "print(\"Training Confusion Matrix:\")\n",
        "print(training_confusion_matrix)"
      ],
      "metadata": {
        "colab": {
          "base_uri": "https://localhost:8080/"
        },
        "id": "kJ1HyaSeh5-E",
        "outputId": "097501f8-6897-4af9-a607-c40aa44aa10d"
      },
      "execution_count": null,
      "outputs": [
        {
          "output_type": "stream",
          "name": "stdout",
          "text": [
            "Training Confusion Matrix:\n",
            "[[ 585    0  274]\n",
            " [ 173   83  368]\n",
            " [ 130    0 1047]]\n"
          ]
        }
      ]
    }
  ]
}