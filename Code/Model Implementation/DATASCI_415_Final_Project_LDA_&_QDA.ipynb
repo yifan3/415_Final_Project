{
  "nbformat": 4,
  "nbformat_minor": 0,
  "metadata": {
    "colab": {
      "provenance": []
    },
    "kernelspec": {
      "name": "python3",
      "display_name": "Python 3"
    },
    "language_info": {
      "name": "python"
    }
  },
  "cells": [
    {
      "cell_type": "markdown",
      "source": [
        "**LDA:**"
      ],
      "metadata": {
        "id": "uPwSZ6Y4I-11"
      }
    },
    {
      "cell_type": "code",
      "execution_count": null,
      "metadata": {
        "colab": {
          "base_uri": "https://localhost:8080/"
        },
        "id": "craxo70bIMQP",
        "outputId": "be73e405-a923-4223-f473-0e067bcb5177"
      },
      "outputs": [
        {
          "output_type": "stream",
          "name": "stdout",
          "text": [
            "\n",
            "Mean Accuracy for LDA: 0.5210526315789474\n",
            "Training Confusion Matrix:\n",
            "[[513   3 343]\n",
            " [236   2 386]\n",
            " [255   1 921]]\n"
          ]
        }
      ],
      "source": [
        "import pandas as pd\n",
        "from sklearn.discriminant_analysis import LinearDiscriminantAnalysis\n",
        "from sklearn.metrics import classification_report, confusion_matrix\n",
        "import numpy as np\n",
        "\n",
        "# Load the dataset\n",
        "training_data = pd.read_excel('/content/Premier_League_Date_Combined_Modified_2.0 - Training Set.xlsx')\n",
        "\n",
        "# Define the feature columns and target variable\n",
        "features = [\n",
        "    'LSPR',    # Last Season Possession Ratio\n",
        "    'LSGFD',   # Last Season Goals For Difference\n",
        "    'LSGAD',   # Last Season Goals Against Difference\n",
        "    'LSYCD',   # Last Season Yellow Cards Difference\n",
        "    'LSPD',    # Last Season Penalty Difference\n",
        "    'LSSPR',   # Last Season Save Percentage Ratio\n",
        "    'LSCSPR',  # Last Season Clean Sheet Percentage Ratio\n",
        "    'R5PD',    # Recent 5 Games Points Difference\n",
        "    'R5GFD',   # Recent 5 Games Goals For Difference\n",
        "    'R5GAD',   # Recent 5 Games Goals Against Difference\n",
        "    'TSSD',    # This Season Squad Difference\n",
        "    'TSAD',    # This Season Age (Average) Difference\n",
        "    'TSFD',    # This Season Foreigners Difference\n",
        "    'TSTMR',   # This Season Total Market Ratio\n",
        "    'R3VATGD', # Recent 3 Versus Away Team Goals Difference\n",
        "    'R3VATP'   # Recent 3 Vercus Away Team Points\n",
        "]\n",
        "X = training_data[features]\n",
        "y = training_data['Outcome_Label']\n",
        "\n",
        "# Define the seasons for forward chaining cross-validation\n",
        "seasons = ['2015-2016', '2016-2017', '2017-2018', '2018-2019', '2019-2020', '2020-2021', '2021-2022']\n",
        "\n",
        "results = []\n",
        "\n",
        "# Initialize Linear Discriminant Analysis model\n",
        "model = LinearDiscriminantAnalysis()\n",
        "\n",
        "for i in range(2, len(seasons) - 1):\n",
        "    # Define training and validation seasons\n",
        "    train_seasons = seasons[i - 2:i]\n",
        "    test_season = seasons[i + 1]\n",
        "\n",
        "    # Filter training and validation data\n",
        "    X_train = training_data[training_data['Season'].isin(train_seasons)][features]\n",
        "    y_train = training_data[training_data['Season'].isin(train_seasons)]['Outcome_Label']\n",
        "    X_test = training_data[training_data['Season'] == test_season][features]\n",
        "    y_test = training_data[training_data['Season'] == test_season]['Outcome_Label']\n",
        "\n",
        "    # Train the model\n",
        "    model.fit(X_train, y_train)\n",
        "\n",
        "    # Test the model\n",
        "    y_pred = model.predict(X_test)\n",
        "\n",
        "    # Evaluate the model\n",
        "    report = classification_report(y_test, y_pred, output_dict=True)\n",
        "    accuracy = report['accuracy']\n",
        "    results.append({'Train Seasons': train_seasons, 'Test Season': test_season, 'Accuracy': accuracy})\n",
        "\n",
        "# Calculate mean accuracy\n",
        "results_df = pd.DataFrame(results)\n",
        "mean_accuracy = results_df['Accuracy'].mean()\n",
        "print(f\"\\nMean Accuracy for LDA: {mean_accuracy}\")\n",
        "\n",
        "# Test the model on the entire training set\n",
        "model.fit(X, y)\n",
        "y_pred_train = model.predict(X)\n",
        "training_confusion_matrix = confusion_matrix(y, y_pred_train)\n",
        "\n",
        "print(\"Training Confusion Matrix:\")\n",
        "print(training_confusion_matrix)"
      ]
    },
    {
      "cell_type": "markdown",
      "source": [
        "**QDA:**"
      ],
      "metadata": {
        "id": "KGA3RDfqKAuv"
      }
    },
    {
      "cell_type": "code",
      "source": [
        "import pandas as pd\n",
        "from sklearn.discriminant_analysis import QuadraticDiscriminantAnalysis\n",
        "from sklearn.metrics import classification_report, confusion_matrix\n",
        "import numpy as np\n",
        "\n",
        "# Load the dataset\n",
        "training_data = pd.read_excel('/content/Premier_League_Date_Combined_Modified_2.0 - Training Set.xlsx')\n",
        "\n",
        "# Define the feature columns and target variable\n",
        "features = [\n",
        "    'LSPR',    # Last Season Possession Ratio\n",
        "    'LSGFD',   # Last Season Goals For Difference\n",
        "    'LSGAD',   # Last Season Goals Against Difference\n",
        "    'LSYCD',   # Last Season Yellow Cards Difference\n",
        "    'LSPD',    # Last Season Penalty Difference\n",
        "    'LSSPR',   # Last Season Save Percentage Ratio\n",
        "    'LSCSPR',  # Last Season Clean Sheet Percentage Ratio\n",
        "    'R5PD',    # Recent 5 Games Points Difference\n",
        "    'R5GFD',   # Recent 5 Games Goals For Difference\n",
        "    'R5GAD',   # Recent 5 Games Goals Against Difference\n",
        "    'TSSD',    # This Season Squad Difference\n",
        "    'TSAD',    # This Season Age (Average) Difference\n",
        "    'TSFD',    # This Season Foreigners Difference\n",
        "    'TSTMR',   # This Season Total Market Ratio\n",
        "    'R3VATGD', # Recent 3 Versus Away Team Goals Difference\n",
        "    'R3VATP'   # Recent 3 Vercus Away Team Points\n",
        "]\n",
        "X = training_data[features]\n",
        "y = training_data['Outcome_Label']\n",
        "\n",
        "# Define the seasons for forward chaining cross-validation\n",
        "seasons = ['2015-2016', '2016-2017', '2017-2018', '2018-2019', '2019-2020', '2020-2021', '2021-2022']\n",
        "\n",
        "results = []\n",
        "\n",
        "# Initialize Quadratic Discriminant Analysis model\n",
        "model = QuadraticDiscriminantAnalysis()\n",
        "\n",
        "for i in range(2, len(seasons) - 1):\n",
        "    # Define training and validation seasons\n",
        "    train_seasons = seasons[i - 2:i]\n",
        "    test_season = seasons[i + 1]\n",
        "\n",
        "    # Filter training and validation data\n",
        "    X_train = training_data[training_data['Season'].isin(train_seasons)][features]\n",
        "    y_train = training_data[training_data['Season'].isin(train_seasons)]['Outcome_Label']\n",
        "    X_test = training_data[training_data['Season'] == test_season][features]\n",
        "    y_test = training_data[training_data['Season'] == test_season]['Outcome_Label']\n",
        "\n",
        "    # Train the model\n",
        "    model.fit(X_train, y_train)\n",
        "\n",
        "    # Test the model\n",
        "    y_pred = model.predict(X_test)\n",
        "\n",
        "    # Evaluate the model\n",
        "    report = classification_report(y_test, y_pred, output_dict=True)\n",
        "    accuracy = report['accuracy']\n",
        "    results.append({'Train Seasons': train_seasons, 'Test Season': test_season, 'Accuracy': accuracy})\n",
        "\n",
        "# Calculate mean accuracy\n",
        "results_df = pd.DataFrame(results)\n",
        "mean_accuracy = results_df['Accuracy'].mean()\n",
        "print(f\"\\nMean Accuracy for QDA: {mean_accuracy}\")\n",
        "\n",
        "# Test the model on the entire training set\n",
        "model.fit(X, y)\n",
        "y_pred_train = model.predict(X)\n",
        "training_confusion_matrix = confusion_matrix(y, y_pred_train)\n",
        "\n",
        "print(\"Training Confusion Matrix:\")\n",
        "print(training_confusion_matrix)\n"
      ],
      "metadata": {
        "id": "j56jbNtZKDZw",
        "outputId": "260431d5-f3bb-4005-d234-997c417b5928",
        "colab": {
          "base_uri": "https://localhost:8080/"
        }
      },
      "execution_count": null,
      "outputs": [
        {
          "output_type": "stream",
          "name": "stdout",
          "text": [
            "\n",
            "Mean Accuracy for QDA: 0.4703947368421053\n",
            "Training Confusion Matrix:\n",
            "[[632  54 173]\n",
            " [305  90 229]\n",
            " [411 107 659]]\n"
          ]
        }
      ]
    }
  ]
}